{
  "nbformat": 4,
  "nbformat_minor": 0,
  "metadata": {
    "colab": {
      "name": "Copy of Mini_Projects_2/ part 2.ipynb",
      "provenance": [],
      "include_colab_link": true
    },
    "kernelspec": {
      "name": "python3",
      "display_name": "Python 3"
    }
  },
  "cells": [
    {
      "cell_type": "markdown",
      "metadata": {
        "id": "view-in-github",
        "colab_type": "text"
      },
      "source": [
        "<a href=\"https://colab.research.google.com/github/samir142/Machine-Learning-Training/blob/main/Copy_of_Mini_Projects_2_part_2.ipynb\" target=\"_parent\"><img src=\"https://colab.research.google.com/assets/colab-badge.svg\" alt=\"Open In Colab\"/></a>"
      ]
    },
    {
      "cell_type": "markdown",
      "metadata": {
        "id": "c2sSEq3uSurn"
      },
      "source": [
        "# Files and Exceptions"
      ]
    },
    {
      "cell_type": "markdown",
      "metadata": {
        "id": "qw2XyRs-TWIF"
      },
      "source": [
        "**8. Sum of Numbers** <br>\n",
        "Assume that a file containing a series of integers is named numbers.txt and exists on the computer’s disk. Write a program that reads all of the numbers stored in the file and calculates their total.\n"
      ]
    },
    {
      "cell_type": "code",
      "metadata": {
        "id": "92EStR9KSu8N"
      },
      "source": [
        "def main():\n",
        "  file= open (\"number.txt\",\"r\")\n",
        "  total=0\n",
        "  for line in file:\n",
        "    number=int(line)\n",
        "    total=total+number\n",
        "  file.close()\n",
        "  print(\"the total of the number= \"+str(total))\n",
        "\n",
        "main()"
      ],
      "execution_count": 7,
      "outputs": []
    },
    {
      "cell_type": "code",
      "metadata": {
        "id": "B7GImG_lSu-u"
      },
      "source": [
        ""
      ],
      "execution_count": null,
      "outputs": []
    },
    {
      "cell_type": "markdown",
      "metadata": {
        "id": "gW0mWcdDVgK4"
      },
      "source": [
        "**9. Average of Numbers** <br>\n",
        "Assume that a file containing a series of integers is named numbers.txt and exists on the computer’s disk. Write a program that calculates the average of all the numbers stored in\n",
        "the file"
      ]
    },
    {
      "cell_type": "code",
      "metadata": {
        "id": "3-DZx-vnSvCe"
      },
      "source": [
        "def main():\n",
        "  file=open(\"number.txt\",\"r\")\n",
        "  avg=0\n",
        "  total=0\n",
        "  for line in file:\n",
        "    number=int(line)\n",
        "    total=total+number\n",
        "  \n",
        "  file.close()\n",
        "  avg=total/number\n",
        "  print(\"the average= \"+str(average))\n",
        "\n",
        "main()"
      ],
      "execution_count": 8,
      "outputs": []
    },
    {
      "cell_type": "markdown",
      "metadata": {
        "id": "vjchCYETVwPx"
      },
      "source": [
        "**10. Random Number File Writer**<br>\n",
        "Write a program that writes a series of random numbers to a file. Each random number should be in the range of 1 \n",
        "through 500. The application should let the user specify how\n",
        "many random numbers the file will hold.\n"
      ]
    },
    {
      "cell_type": "code",
      "metadata": {
        "id": "DCyba_BZVxLF",
        "colab": {
          "base_uri": "https://localhost:8080/"
        },
        "outputId": "530ddafb-dff6-4f87-96d4-4c721bfa74af"
      },
      "source": [
        "import random\n",
        "def main():\n",
        "  afile = open(\"Random.txt\", \"w\" )\n",
        "\n",
        "  for i in range(int(input('How many random numbers?: '))):\n",
        "    line = str(random.randint(1, 100))\n",
        "    afile.write(line)\n",
        "    print(line)\n",
        "\n",
        "  afile.close()\n",
        "  print(\"the file has been filled with numbers\")\n",
        "\n",
        "main()\n"
      ],
      "execution_count": 9,
      "outputs": [
        {
          "output_type": "stream",
          "text": [
            "How many random numbers?: 55\n",
            "69\n",
            "93\n",
            "23\n",
            "73\n",
            "3\n",
            "61\n",
            "89\n",
            "24\n",
            "41\n",
            "26\n",
            "47\n",
            "14\n",
            "18\n",
            "39\n",
            "61\n",
            "31\n",
            "65\n",
            "75\n",
            "74\n",
            "92\n",
            "8\n",
            "55\n",
            "47\n",
            "57\n",
            "44\n",
            "28\n",
            "48\n",
            "6\n",
            "45\n",
            "43\n",
            "76\n",
            "23\n",
            "81\n",
            "72\n",
            "78\n",
            "82\n",
            "22\n",
            "87\n",
            "78\n",
            "95\n",
            "60\n",
            "71\n",
            "39\n",
            "6\n",
            "67\n",
            "56\n",
            "89\n",
            "13\n",
            "83\n",
            "69\n",
            "64\n",
            "76\n",
            "1\n",
            "29\n",
            "63\n",
            "the file has been filled with numbers\n"
          ],
          "name": "stdout"
        }
      ]
    },
    {
      "cell_type": "code",
      "metadata": {
        "id": "uZ7CQJM0VxN5"
      },
      "source": [
        ""
      ],
      "execution_count": null,
      "outputs": []
    },
    {
      "cell_type": "markdown",
      "metadata": {
        "id": "p75ZKqbXWMdY"
      },
      "source": [
        "**11.  Exception Handing** <br>\n",
        "Modify the program that you wrote for Exercise 9 so it handles the following exceptions: <br>\n",
        "* It should handle any IOError exceptions that are raised when the file is opened and data\n",
        "is read from it. <br>\n",
        "* It should handle any ValueError exceptions that are raised when the items that are read from the file are converted to a number."
      ]
    },
    {
      "cell_type": "code",
      "metadata": {
        "id": "22SOHQbrVxRE",
        "colab": {
          "base_uri": "https://localhost:8080/"
        },
        "outputId": "fabc428f-1ea4-4d36-a76f-d1134d870d3b"
      },
      "source": [
        "def main():\n",
        "  avg=0\n",
        "  total=0\n",
        "  try:\n",
        "    file=open(\"number.txt\",\"r\")\n",
        "    for line in file:\n",
        "      number=int(line)\n",
        "      total=total+number\n",
        "    \n",
        "    file.close()\n",
        "    avg=total/number\n",
        "    print(\"the average= \"+str(average))\n",
        "  except:\n",
        "    if ValueError:\n",
        "      print(\"enter a valid input\")\n",
        "    if FileNotFoundError:\n",
        "      print(\"file not found number.txt\")\n",
        "    else:\n",
        "      print(\"Error occured\")\n",
        "\n",
        "main()"
      ],
      "execution_count": 10,
      "outputs": [
        {
          "output_type": "stream",
          "text": [
            "enter a valid input\n",
            "file not found number.txt\n"
          ],
          "name": "stdout"
        }
      ]
    },
    {
      "cell_type": "code",
      "metadata": {
        "id": "3p0MENR_WrBV"
      },
      "source": [
        ""
      ],
      "execution_count": null,
      "outputs": []
    }
  ]
}